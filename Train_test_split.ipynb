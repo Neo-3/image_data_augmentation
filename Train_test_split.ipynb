{
 "cells": [
  {
   "cell_type": "code",
   "execution_count": 1,
   "metadata": {},
   "outputs": [
    {
     "name": "stderr",
     "output_type": "stream",
     "text": [
      "Using TensorFlow backend.\n"
     ]
    }
   ],
   "source": [
    "import os, shutil, glob, os.path\n"
   ]
  },
  {
   "cell_type": "code",
   "execution_count": 2,
   "metadata": {},
   "outputs": [],
   "source": [
    "badImgDir = './originals/0'\n",
    "goodImgDir = './originals/1'\n",
    "\n",
    "goodFiles = glob.glob(os.path.join(goodImgDir, '*.jpg'))\n",
    "badFiles = glob.glob(os.path.join(badImgDir, '*.jpg'))"
   ]
  },
  {
   "cell_type": "code",
   "execution_count": 3,
   "metadata": {},
   "outputs": [],
   "source": [
    "goodImgCounter = len(glob.glob1('./originals/1',\"*.jpg\"))\n",
    "badImgCounter = len(glob.glob1('./originals/0',\"*.jpg\"))\n"
   ]
  },
  {
   "cell_type": "code",
   "execution_count": 4,
   "metadata": {},
   "outputs": [],
   "source": [
    "# Create target folder\n",
    "trainGooddir='./Train/1'\n",
    "trainBaddir='./Train/0'\n",
    "\n",
    "testGooddir='./Test/1'\n",
    "testBaddir='./Test/0'\n",
    "\n",
    "TrainG=goodFiles[185:617]\n",
    "TrainB=badFiles[472:1574]\n",
    "\n",
    "TestG=goodFiles[0:185]\n",
    "TestB=badFiles[0:472]\n",
    "\n",
    "\n",
    "try:\n",
    "    os.makedirs(trainGooddir)\n",
    "    os.makedirs(trainBaddir)\n",
    "    os.makedirs(testGooddir)\n",
    "    os.makedirs(testBaddir)\n",
    "except OSError:\n",
    "    pass\n"
   ]
  },
  {
   "cell_type": "code",
   "execution_count": 5,
   "metadata": {},
   "outputs": [],
   "source": [
    "\n",
    "    for f in TrainG:\n",
    "            #shutil.copy(goodFiles[f], './Train/1/')\n",
    "        shutil.copy(f, './Train/1/')\n",
    "        \n",
    "    for f in TrainB:\n",
    "         #   shutil.copy(badFiles[f], './Train/0/')\n",
    "        shutil.copy(f, './Train/0/')\n",
    "        \n",
    "    for f in TestG:\n",
    "            #shutil.copy(goodFiles[f], './Test/1/')\n",
    "        shutil.copy(f, './Test/1/')\n",
    "        \n",
    "    for f in TestB:\n",
    "            #shutil.copy(badFiles[f], './Test/0/')\n",
    "        shutil.copy(f, './Test/0/')\n",
    "       "
   ]
  },
  {
   "cell_type": "code",
   "execution_count": null,
   "metadata": {},
   "outputs": [],
   "source": []
  }
 ],
 "metadata": {
  "kernelspec": {
   "display_name": "Python 3",
   "language": "python",
   "name": "python3"
  },
  "language_info": {
   "codemirror_mode": {
    "name": "ipython",
    "version": 3
   },
   "file_extension": ".py",
   "mimetype": "text/x-python",
   "name": "python",
   "nbconvert_exporter": "python",
   "pygments_lexer": "ipython3",
   "version": "3.6.10"
  }
 },
 "nbformat": 4,
 "nbformat_minor": 4
}
