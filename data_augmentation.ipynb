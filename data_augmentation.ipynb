{
 "cells": [
  {
   "cell_type": "code",
   "execution_count": 48,
   "metadata": {},
   "outputs": [],
   "source": [
    "from keras.preprocessing.image import (ImageDataGenerator, array_to_img, img_to_array, load_img)\n",
    "import os, shutil, glob, os.path\n",
    "IMAGE_BASE_GROWTH_RATIO = 5"
   ]
  },
  {
   "cell_type": "code",
   "execution_count": 49,
   "metadata": {},
   "outputs": [],
   "source": [
    "datagen = ImageDataGenerator( \n",
    "        rotation_range = 10, \n",
    "        shear_range = 0.02, \n",
    "        zoom_range = 0.01, \n",
    "        horizontal_flip = True, \n",
    "        brightness_range = (0.2, 0.4))"
   ]
  },
  {
   "cell_type": "code",
   "execution_count": 50,
   "metadata": {},
   "outputs": [],
   "source": [
    "badImgDir = './originals/0'\n",
    "goodImgDir = './originals/1'\n",
    "\n",
    "goodFiles = glob.glob(os.path.join(goodImgDir, '*.jpg'))\n",
    "badFiles = glob.glob(os.path.join(badImgDir, '*.jpg'))"
   ]
  },
  {
   "cell_type": "code",
   "execution_count": 51,
   "metadata": {},
   "outputs": [
    {
     "output_type": "stream",
     "name": "stdout",
     "text": "Status: 617 / 617\n saved: 3085 images 5 times more images than original base\n"
    }
   ],
   "source": [
    "for file_index, imagepath in enumerate(goodFiles):\n",
    "    print(\"Status:\", file_index+1, \"/\", len(goodFiles), end=\"\\r\")\n",
    "    img = load_img(imagepath)  \n",
    "    array_img = img_to_array(img) \n",
    "    reshaped_img = array_img.reshape((1, ) + array_img.shape)\n",
    "    for batch_index, batch in enumerate(datagen.flow(reshaped_img, batch_size = 1, save_to_dir ='augmented', save_prefix=imagepath.strip(goodImgDir.strip('1')).strip('.jpg'), save_format ='jpg')):\n",
    "        if batch_index >= IMAGE_BASE_GROWTH_RATIO-2: \n",
    "            break\n",
    "    shutil.copy(imagepath, 'augmented/1')\n",
    "print(\"Status:\", file_index+1, \"/\", len(goodFiles))\n",
    "print(\" saved:\", len(goodFiles)*IMAGE_BASE_GROWTH_RATIO, \"images\", IMAGE_BASE_GROWTH_RATIO, \"times more images than original base\" )"
   ]
  },
  {
   "cell_type": "code",
   "execution_count": 52,
   "metadata": {},
   "outputs": [
    {
     "output_type": "stream",
     "name": "stdout",
     "text": "Status: 1574 / 1574\nsaved: 7870 images 5 times more images than original base\n"
    }
   ],
   "source": [
    "for file_index, imagepath in enumerate(badFiles):\n",
    "    print(\"Status:\", file_index+1, \"/\", len(badFiles), end=\"\\r\")\n",
    "    img = load_img(imagepath)  \n",
    "    array_img = img_to_array(img) \n",
    "    reshaped_img = array_img.reshape((1, ) + array_img.shape)\n",
    "    for batch_index, batch in enumerate(datagen.flow(reshaped_img, batch_size = 1, save_to_dir ='augmented', save_prefix=imagepath.strip(goodImgDir.strip('0')).strip('.jpg'), save_format ='jpg')):\n",
    "        if batch_index >= IMAGE_BASE_GROWTH_RATIO-2: \n",
    "            break\n",
    "    shutil.copy(imagepath, 'augmented/0')\n",
    "print(\"Status:\", file_index+1, \"/\", len(badFiles))\n",
    "print(\"saved:\", len(badFiles)*IMAGE_BASE_GROWTH_RATIO, \"images\", IMAGE_BASE_GROWTH_RATIO, \"times more images than original base\" )"
   ]
  }
 ],
 "metadata": {
  "language_info": {
   "codemirror_mode": {
    "name": "ipython",
    "version": 3
   },
   "file_extension": ".py",
   "mimetype": "text/x-python",
   "name": "python",
   "nbconvert_exporter": "python",
   "pygments_lexer": "ipython3",
   "version": "3.7.6-final"
  },
  "orig_nbformat": 2,
  "kernelspec": {
   "name": "python37664bitbasecondad966c2a1159e4e1ca37dbb425c4d7f40",
   "display_name": "Python 3.7.6 64-bit ('base': conda)"
  }
 },
 "nbformat": 4,
 "nbformat_minor": 2
}