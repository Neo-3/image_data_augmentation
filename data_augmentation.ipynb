{
 "cells": [
  {
   "cell_type": "code",
   "execution_count": 1,
   "metadata": {},
   "outputs": [
    {
     "name": "stderr",
     "output_type": "stream",
     "text": [
      "Using TensorFlow backend.\n"
     ]
    }
   ],
   "source": [
    "from keras.preprocessing.image import (ImageDataGenerator, array_to_img, img_to_array, load_img)\n",
    "import os, shutil, glob, os.path\n",
    "IMAGE_BASE_GROWTH_RATIO = 5"
   ]
  },
  {
   "cell_type": "code",
   "execution_count": 2,
   "metadata": {},
   "outputs": [],
   "source": [
    "datagen = ImageDataGenerator( \n",
    "        rotation_range = 10, \n",
    "        shear_range = 0.02, \n",
    "        zoom_range = 0.01, \n",
    "        horizontal_flip = True, \n",
    "        brightness_range = (0.2, 0.4))"
   ]
  },
  {
   "cell_type": "code",
   "execution_count": 3,
   "metadata": {},
   "outputs": [],
   "source": [
    "badImgDirTrain = './Train/0'\n",
    "goodImgDirTrain = './Train/1'\n",
    "\n",
    "goodFilesTrain = glob.glob(os.path.join(goodImgDirTrain, '*.jpg'))\n",
    "badFilesTrain = glob.glob(os.path.join(badImgDirTrain, '*.jpg'))"
   ]
  },
  {
   "cell_type": "code",
   "execution_count": 8,
   "metadata": {},
   "outputs": [],
   "source": [
    "trainGooddir='./augmented/Train/1'\n",
    "trainBaddir='./augmented/Train/0'\n",
    "\n",
    "testGooddir='./augmented/Test/1'\n",
    "testBaddir='./augmented/Test/0'\n",
    "\n",
    "try:\n",
    "    os.makedirs(trainGooddir)\n",
    "    os.makedirs(trainBaddir)\n",
    "    os.makedirs(testGooddir)\n",
    "    os.makedirs(testBaddir)\n",
    "except OSError:\n",
    "    print(\"ERRO\")\n",
    "    pass"
   ]
  },
  {
   "cell_type": "code",
   "execution_count": 9,
   "metadata": {},
   "outputs": [
    {
     "name": "stdout",
     "output_type": "stream",
     "text": [
      "Status: 432 / 432\n",
      " saved: 2160 images 5 times more images than original base\n"
     ]
    }
   ],
   "source": [
    "for file_index, imagepath in enumerate(goodFilesTrain):\n",
    "    print(\"Status:\", file_index+1, \"/\", len(goodFilesTrain), end=\"\\r\")\n",
    "    img = load_img(imagepath)  \n",
    "    array_img = img_to_array(img) \n",
    "    reshaped_img = array_img.reshape((1, ) + array_img.shape)\n",
    "    for batch_index, batch in enumerate(datagen.flow(reshaped_img, batch_size = 1, save_to_dir ='augmented/Train', save_prefix=imagepath.strip(goodImgDirTrain.strip('1')).strip('.jpg'), save_format ='jpg')):\n",
    "        if batch_index >= IMAGE_BASE_GROWTH_RATIO-2: \n",
    "            break\n",
    "    shutil.copy(imagepath, 'augmented/Train/1')\n",
    "print(\"Status:\", file_index+1, \"/\", len(goodFilesTrain))\n",
    "print(\" saved:\", len(goodFilesTrain)*IMAGE_BASE_GROWTH_RATIO, \"images\", IMAGE_BASE_GROWTH_RATIO, \"times more images than original base\" )"
   ]
  },
  {
   "cell_type": "code",
   "execution_count": 10,
   "metadata": {},
   "outputs": [
    {
     "name": "stdout",
     "output_type": "stream",
     "text": [
      "Status: 1102 / 1102\n",
      "saved: 5510 images 5 times more images than original base\n"
     ]
    }
   ],
   "source": [
    "for file_index, imagepath in enumerate(badFilesTrain):\n",
    "    print(\"Status:\", file_index+1, \"/\", len(badFilesTrain), end=\"\\r\")\n",
    "    img = load_img(imagepath)  \n",
    "    array_img = img_to_array(img) \n",
    "    reshaped_img = array_img.reshape((1, ) + array_img.shape)\n",
    "    for batch_index, batch in enumerate(datagen.flow(reshaped_img, batch_size = 1, save_to_dir ='augmented/Train', save_prefix=imagepath.strip(badImgDirTrain.strip('0')).strip('.jpg'), save_format ='jpg')):\n",
    "        if batch_index >= IMAGE_BASE_GROWTH_RATIO-2: \n",
    "            break\n",
    "    shutil.copy(imagepath, 'augmented/Train/0')\n",
    "print(\"Status:\", file_index+1, \"/\", len(badFilesTrain))\n",
    "print(\"saved:\", len(badFilesTrain)*IMAGE_BASE_GROWTH_RATIO, \"images\", IMAGE_BASE_GROWTH_RATIO, \"times more images than original base\" )"
   ]
  },
  {
   "cell_type": "code",
   "execution_count": null,
   "metadata": {},
   "outputs": [],
   "source": []
  },
  {
   "cell_type": "code",
   "execution_count": 11,
   "metadata": {},
   "outputs": [],
   "source": [
    "badImgDirTest = './Test/0'\n",
    "goodImgDirTest = './Test/1'\n",
    "\n",
    "goodFilesTest = glob.glob(os.path.join(goodImgDirTest, '*.jpg'))\n",
    "badFilesTest = glob.glob(os.path.join(badImgDirTest, '*.jpg'))"
   ]
  },
  {
   "cell_type": "code",
   "execution_count": 12,
   "metadata": {},
   "outputs": [
    {
     "name": "stdout",
     "output_type": "stream",
     "text": [
      "Status: 185 / 185\n",
      " saved: 925 images 5 times more images than original base\n"
     ]
    }
   ],
   "source": [
    "for file_index, imagepath in enumerate(goodFilesTest):\n",
    "    print(\"Status:\", file_index+1, \"/\", len(goodFilesTest), end=\"\\r\")\n",
    "    img = load_img(imagepath)  \n",
    "    array_img = img_to_array(img) \n",
    "    reshaped_img = array_img.reshape((1, ) + array_img.shape)\n",
    "    for batch_index, batch in enumerate(datagen.flow(reshaped_img, batch_size = 1, save_to_dir ='augmented/Test', save_prefix=imagepath.strip(goodImgDirTest.strip('1')).strip('.jpg'), save_format ='jpg')):\n",
    "        if batch_index >= IMAGE_BASE_GROWTH_RATIO-2: \n",
    "            break\n",
    "    shutil.copy(imagepath, 'augmented/Test/1')\n",
    "print(\"Status:\", file_index+1, \"/\", len(goodFilesTest))\n",
    "print(\" saved:\", len(goodFilesTest)*IMAGE_BASE_GROWTH_RATIO, \"images\", IMAGE_BASE_GROWTH_RATIO, \"times more images than original base\" )"
   ]
  },
  {
   "cell_type": "code",
   "execution_count": 13,
   "metadata": {},
   "outputs": [
    {
     "name": "stdout",
     "output_type": "stream",
     "text": [
      "Status: 472 / 472\n",
      "saved: 2360 images 5 times more images than original base\n"
     ]
    }
   ],
   "source": [
    "for file_index, imagepath in enumerate(badFilesTest):\n",
    "    print(\"Status:\", file_index+1, \"/\", len(badFilesTest), end=\"\\r\")\n",
    "    img = load_img(imagepath)  \n",
    "    array_img = img_to_array(img) \n",
    "    reshaped_img = array_img.reshape((1, ) + array_img.shape)\n",
    "    for batch_index, batch in enumerate(datagen.flow(reshaped_img, batch_size = 1, save_to_dir ='augmented/Test', save_prefix=imagepath.strip(badImgDirTest.strip('0')).strip('.jpg'), save_format ='jpg')):\n",
    "        if batch_index >= IMAGE_BASE_GROWTH_RATIO-2: \n",
    "            break\n",
    "    shutil.copy(imagepath, 'augmented/Test/0')\n",
    "print(\"Status:\", file_index+1, \"/\", len(badFilesTest))\n",
    "print(\"saved:\", len(badFilesTest)*IMAGE_BASE_GROWTH_RATIO, \"images\", IMAGE_BASE_GROWTH_RATIO, \"times more images than original base\" )"
   ]
  },
  {
   "cell_type": "code",
   "execution_count": null,
   "metadata": {},
   "outputs": [],
   "source": []
  }
 ],
 "metadata": {
  "kernelspec": {
   "display_name": "Python 3",
   "language": "python",
   "name": "python3"
  },
  "language_info": {
   "codemirror_mode": {
    "name": "ipython",
    "version": 3
   },
   "file_extension": ".py",
   "mimetype": "text/x-python",
   "name": "python",
   "nbconvert_exporter": "python",
   "pygments_lexer": "ipython3",
   "version": "3.6.10"
  }
 },
 "nbformat": 4,
 "nbformat_minor": 2
}
